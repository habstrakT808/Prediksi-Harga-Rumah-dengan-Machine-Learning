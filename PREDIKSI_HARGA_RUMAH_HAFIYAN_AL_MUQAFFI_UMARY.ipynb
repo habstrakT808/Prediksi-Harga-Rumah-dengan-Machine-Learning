{
  "nbformat": 4,
  "nbformat_minor": 0,
  "metadata": {
    "colab": {
      "provenance": [],
      "gpuType": "T4",
      "authorship_tag": "ABX9TyM8Tf5IiMuS/RklCFy8wUX6",
      "include_colab_link": true
    },
    "kernelspec": {
      "name": "python3",
      "display_name": "Python 3"
    },
    "language_info": {
      "name": "python"
    },
    "accelerator": "GPU"
  },
  "cells": [
    {
      "cell_type": "markdown",
      "metadata": {
        "id": "view-in-github",
        "colab_type": "text"
      },
      "source": [
        "<a href=\"https://colab.research.google.com/github/habstrakT808/Prediksi-Harga-Rumah-dengan-Machine-Learning/blob/main/PREDIKSI_HARGA_RUMAH_HAFIYAN_AL_MUQAFFI_UMARY.ipynb\" target=\"_parent\"><img src=\"https://colab.research.google.com/assets/colab-badge.svg\" alt=\"Open In Colab\"/></a>"
      ]
    },
    {
      "cell_type": "markdown",
      "source": [
        "#PREDIKSI HARGA RUMAH - MACHINE LEARNING TERAPAN"
      ],
      "metadata": {
        "id": "qI4Cqh3EpUlo"
      }
    },
    {
      "cell_type": "markdown",
      "source": [
        "## Import library yang dibutuhkan"
      ],
      "metadata": {
        "id": "QJR7mAsbpJml"
      }
    },
    {
      "cell_type": "code",
      "execution_count": null,
      "metadata": {
        "id": "U-HVUvGQo8X_"
      },
      "outputs": [],
      "source": [
        "import pandas as pd\n",
        "import numpy as np\n",
        "import matplotlib.pyplot as plt\n",
        "import seaborn as sns\n",
        "from sklearn.model_selection import train_test_split, GridSearchCV\n",
        "from sklearn.preprocessing import StandardScaler\n",
        "from sklearn.linear_model import LinearRegression\n",
        "from sklearn.tree import DecisionTreeRegressor\n",
        "from sklearn.ensemble import RandomForestRegressor\n",
        "from sklearn.metrics import mean_absolute_error, mean_squared_error, r2_score\n",
        "import warnings\n",
        "warnings.filterwarnings('ignore')"
      ]
    },
    {
      "cell_type": "markdown",
      "source": [
        "## 1. Load Dataset\n"
      ],
      "metadata": {
        "id": "c9Bo8nvDpeeD"
      }
    },
    {
      "cell_type": "code",
      "source": [
        "print(\"Loading dataset...\")\n",
        "url = \"https://www.kaggle.com/datasets/harlfoxem/housesalesprediction\"\n",
        "df = pd.read_csv(\"/content/kc_house_data.csv\")"
      ],
      "metadata": {
        "colab": {
          "base_uri": "https://localhost:8080/"
        },
        "id": "c2NjpdD_pam-",
        "outputId": "fb71a90d-ff6b-4315-bef1-88751b7babca"
      },
      "execution_count": null,
      "outputs": [
        {
          "output_type": "stream",
          "name": "stdout",
          "text": [
            "Loading dataset...\n"
          ]
        }
      ]
    },
    {
      "cell_type": "markdown",
      "source": [
        "## 2. Exploratory Data Analysis"
      ],
      "metadata": {
        "id": "d8n7sq4orShX"
      }
    },
    {
      "cell_type": "code",
      "source": [
        "print(\"\\n=== Data Overview ===\")\n",
        "print(f\"Shape: {df.shape}\")\n",
        "print(\"\\nData Types:\")\n",
        "print(df.dtypes)\n",
        "\n",
        "print(\"\\n=== Statistical Summary ===\")\n",
        "print(df.describe())\n",
        "\n",
        "print(\"\\n=== Check Missing Values ===\")\n",
        "print(df.isnull().sum())\n",
        "\n",
        "# Convert date column to datetime\n",
        "df['date'] = pd.to_datetime(df['date'])\n",
        "\n",
        "# Visualizations\n",
        "plt.figure(figsize=(12, 6))\n",
        "plt.subplot(1, 2, 1)\n",
        "sns.histplot(df['price'], kde=True)\n",
        "plt.title('Price Distribution')\n",
        "plt.xlabel('Price')\n",
        "\n",
        "plt.subplot(1, 2, 2)\n",
        "sns.scatterplot(x='sqft_living', y='price', data=df)\n",
        "plt.title('Price vs. Square Footage')\n",
        "plt.tight_layout()\n",
        "plt.savefig('price_distribution_and_correlation.png')\n",
        "plt.close()\n",
        "\n",
        "# Correlation heatmap\n",
        "plt.figure(figsize=(14, 12))\n",
        "correlation = df.corr()\n",
        "mask = np.triu(correlation)\n",
        "sns.heatmap(correlation, annot=True, cmap='coolwarm', fmt='.2f', mask=mask)\n",
        "plt.title('Correlation Heatmap')\n",
        "plt.tight_layout()\n",
        "plt.savefig('correlation_heatmap.png')\n",
        "plt.close()\n",
        "\n",
        "print(\"\\n=== Top Correlations with Price ===\")\n",
        "print(correlation['price'].sort_values(ascending=False).head(10))\n",
        "\n",
        "# Plot locations with prices\n",
        "plt.figure(figsize=(12, 8))\n",
        "sns.scatterplot(x='long', y='lat', data=df, hue='price', palette='viridis', size='price',\n",
        "               sizes=(20, 200), alpha=0.6)\n",
        "plt.title('House Locations with Prices')\n",
        "plt.tight_layout()\n",
        "plt.savefig('location_prices.png')\n",
        "plt.close()\n"
      ],
      "metadata": {
        "colab": {
          "base_uri": "https://localhost:8080/"
        },
        "id": "SPb2vcPcrU0n",
        "outputId": "763eb69b-94ff-428a-8bdb-f308f3e9390d"
      },
      "execution_count": null,
      "outputs": [
        {
          "output_type": "stream",
          "name": "stdout",
          "text": [
            "\n",
            "=== Data Overview ===\n",
            "Shape: (21613, 21)\n",
            "\n",
            "Data Types:\n",
            "id                 int64\n",
            "date              object\n",
            "price            float64\n",
            "bedrooms           int64\n",
            "bathrooms        float64\n",
            "sqft_living        int64\n",
            "sqft_lot           int64\n",
            "floors           float64\n",
            "waterfront         int64\n",
            "view               int64\n",
            "condition          int64\n",
            "grade              int64\n",
            "sqft_above         int64\n",
            "sqft_basement      int64\n",
            "yr_built           int64\n",
            "yr_renovated       int64\n",
            "zipcode            int64\n",
            "lat              float64\n",
            "long             float64\n",
            "sqft_living15      int64\n",
            "sqft_lot15         int64\n",
            "dtype: object\n",
            "\n",
            "=== Statistical Summary ===\n",
            "                 id         price      bedrooms     bathrooms   sqft_living  \\\n",
            "count  2.161300e+04  2.161300e+04  21613.000000  21613.000000  21613.000000   \n",
            "mean   4.580302e+09  5.400881e+05      3.370842      2.114757   2079.899736   \n",
            "std    2.876566e+09  3.671272e+05      0.930062      0.770163    918.440897   \n",
            "min    1.000102e+06  7.500000e+04      0.000000      0.000000    290.000000   \n",
            "25%    2.123049e+09  3.219500e+05      3.000000      1.750000   1427.000000   \n",
            "50%    3.904930e+09  4.500000e+05      3.000000      2.250000   1910.000000   \n",
            "75%    7.308900e+09  6.450000e+05      4.000000      2.500000   2550.000000   \n",
            "max    9.900000e+09  7.700000e+06     33.000000      8.000000  13540.000000   \n",
            "\n",
            "           sqft_lot        floors    waterfront          view     condition  \\\n",
            "count  2.161300e+04  21613.000000  21613.000000  21613.000000  21613.000000   \n",
            "mean   1.510697e+04      1.494309      0.007542      0.234303      3.409430   \n",
            "std    4.142051e+04      0.539989      0.086517      0.766318      0.650743   \n",
            "min    5.200000e+02      1.000000      0.000000      0.000000      1.000000   \n",
            "25%    5.040000e+03      1.000000      0.000000      0.000000      3.000000   \n",
            "50%    7.618000e+03      1.500000      0.000000      0.000000      3.000000   \n",
            "75%    1.068800e+04      2.000000      0.000000      0.000000      4.000000   \n",
            "max    1.651359e+06      3.500000      1.000000      4.000000      5.000000   \n",
            "\n",
            "              grade    sqft_above  sqft_basement      yr_built  yr_renovated  \\\n",
            "count  21613.000000  21613.000000   21613.000000  21613.000000  21613.000000   \n",
            "mean       7.656873   1788.390691     291.509045   1971.005136     84.402258   \n",
            "std        1.175459    828.090978     442.575043     29.373411    401.679240   \n",
            "min        1.000000    290.000000       0.000000   1900.000000      0.000000   \n",
            "25%        7.000000   1190.000000       0.000000   1951.000000      0.000000   \n",
            "50%        7.000000   1560.000000       0.000000   1975.000000      0.000000   \n",
            "75%        8.000000   2210.000000     560.000000   1997.000000      0.000000   \n",
            "max       13.000000   9410.000000    4820.000000   2015.000000   2015.000000   \n",
            "\n",
            "            zipcode           lat          long  sqft_living15     sqft_lot15  \n",
            "count  21613.000000  21613.000000  21613.000000   21613.000000   21613.000000  \n",
            "mean   98077.939805     47.560053   -122.213896    1986.552492   12768.455652  \n",
            "std       53.505026      0.138564      0.140828     685.391304   27304.179631  \n",
            "min    98001.000000     47.155900   -122.519000     399.000000     651.000000  \n",
            "25%    98033.000000     47.471000   -122.328000    1490.000000    5100.000000  \n",
            "50%    98065.000000     47.571800   -122.230000    1840.000000    7620.000000  \n",
            "75%    98118.000000     47.678000   -122.125000    2360.000000   10083.000000  \n",
            "max    98199.000000     47.777600   -121.315000    6210.000000  871200.000000  \n",
            "\n",
            "=== Check Missing Values ===\n",
            "id               0\n",
            "date             0\n",
            "price            0\n",
            "bedrooms         0\n",
            "bathrooms        0\n",
            "sqft_living      0\n",
            "sqft_lot         0\n",
            "floors           0\n",
            "waterfront       0\n",
            "view             0\n",
            "condition        0\n",
            "grade            0\n",
            "sqft_above       0\n",
            "sqft_basement    0\n",
            "yr_built         0\n",
            "yr_renovated     0\n",
            "zipcode          0\n",
            "lat              0\n",
            "long             0\n",
            "sqft_living15    0\n",
            "sqft_lot15       0\n",
            "dtype: int64\n",
            "\n",
            "=== Top Correlations with Price ===\n",
            "price            1.000000\n",
            "sqft_living      0.702035\n",
            "grade            0.667434\n",
            "sqft_above       0.605567\n",
            "sqft_living15    0.585379\n",
            "bathrooms        0.525138\n",
            "view             0.397293\n",
            "sqft_basement    0.323816\n",
            "bedrooms         0.308350\n",
            "lat              0.307003\n",
            "Name: price, dtype: float64\n"
          ]
        }
      ]
    },
    {
      "cell_type": "markdown",
      "source": [
        "## 3. Data Preparation"
      ],
      "metadata": {
        "id": "B97Q-VS5riM7"
      }
    },
    {
      "cell_type": "markdown",
      "source": [
        "### 3.1 Handling Missing Values\n"
      ],
      "metadata": {
        "id": "BYJrX_5RrqCq"
      }
    },
    {
      "cell_type": "code",
      "source": [
        "print(\"Handling missing values...\")\n",
        "df['waterfront'] = df['waterfront'].fillna(0)\n",
        "df['view'] = df['view'].fillna(0)\n",
        "df['yr_renovated'] = df['yr_renovated'].fillna(0)"
      ],
      "metadata": {
        "colab": {
          "base_uri": "https://localhost:8080/"
        },
        "id": "2lNKJYOlrjEy",
        "outputId": "500e6bd0-5f57-4d00-cc02-3a6e5a49fa4a"
      },
      "execution_count": null,
      "outputs": [
        {
          "output_type": "stream",
          "name": "stdout",
          "text": [
            "Handling missing values...\n"
          ]
        }
      ]
    },
    {
      "cell_type": "markdown",
      "source": [
        "### 3.2 Feature Engineering"
      ],
      "metadata": {
        "id": "wVs6hD-xr18_"
      }
    },
    {
      "cell_type": "code",
      "source": [
        "print(\"Creating new features...\")\n",
        "# Age of the house\n",
        "df['age'] = 2015 - df['yr_built']\n",
        "\n",
        "# Renovation status\n",
        "df['renovated'] = df['yr_renovated'].apply(lambda x: 1 if x > 0 else 0)\n",
        "\n",
        "# Total area\n",
        "df['total_area'] = df['sqft_living'] + df['sqft_lot']\n",
        "\n",
        "# Price per square foot\n",
        "df['price_per_sqft'] = df['price'] / df['sqft_living']\n",
        "\n",
        "# Extract date features\n",
        "df['sale_year'] = df['date'].dt.year\n",
        "df['sale_month'] = df['date'].dt.month\n",
        "df['sale_day'] = df['date'].dt.day"
      ],
      "metadata": {
        "colab": {
          "base_uri": "https://localhost:8080/"
        },
        "id": "8RkuN2Agr0ay",
        "outputId": "a647ed0b-fea7-41c1-9f67-09883bdb5fe0"
      },
      "execution_count": null,
      "outputs": [
        {
          "output_type": "stream",
          "name": "stdout",
          "text": [
            "Creating new features...\n"
          ]
        }
      ]
    },
    {
      "cell_type": "markdown",
      "source": [
        "### 3.3 Handling Outliers"
      ],
      "metadata": {
        "id": "bF-EGwDgr82S"
      }
    },
    {
      "cell_type": "code",
      "source": [
        "print(\"Handling outliers...\")\n",
        "# Visualize price outliers with boxplot\n",
        "plt.figure(figsize=(10, 6))\n",
        "sns.boxplot(x=df['price'])\n",
        "plt.title('Price Boxplot')\n",
        "plt.tight_layout()\n",
        "plt.savefig('price_boxplot.png')\n",
        "plt.close()\n",
        "\n",
        "# Remove price outliers using IQR method\n",
        "Q1 = df['price'].quantile(0.25)\n",
        "Q3 = df['price'].quantile(0.75)\n",
        "IQR = Q3 - Q1\n",
        "\n",
        "lower_bound = Q1 - 1.5 * IQR\n",
        "upper_bound = Q3 + 1.5 * IQR\n",
        "\n",
        "df_clean = df[(df['price'] >= lower_bound) & (df['price'] <= upper_bound)]\n",
        "print(f\"Rows after removing outliers: {df_clean.shape[0]} (removed {df.shape[0] - df_clean.shape[0]} rows)\")"
      ],
      "metadata": {
        "colab": {
          "base_uri": "https://localhost:8080/"
        },
        "id": "zEES-GLwr-t4",
        "outputId": "a5dda24b-f56d-4d7a-ba3b-c2546deac094"
      },
      "execution_count": null,
      "outputs": [
        {
          "output_type": "stream",
          "name": "stdout",
          "text": [
            "Handling outliers...\n",
            "Rows after removing outliers: 20467 (removed 1146 rows)\n"
          ]
        }
      ]
    },
    {
      "cell_type": "markdown",
      "source": [
        "### 3.4 Feature Selection based on correlation"
      ],
      "metadata": {
        "id": "vOejgdjXsGsR"
      }
    },
    {
      "cell_type": "code",
      "source": [
        "print(\"Selecting features based on correlation...\")\n",
        "corr_with_target = df_clean.corr()['price'].abs().sort_values(ascending=False)\n",
        "print(\"\\nTop 15 features by correlation with price:\")\n",
        "print(corr_with_target.head(16))\n",
        "\n",
        "top_features = corr_with_target[1:16].index  # Excluding price itself"
      ],
      "metadata": {
        "colab": {
          "base_uri": "https://localhost:8080/"
        },
        "id": "gPFGRynKsByR",
        "outputId": "91edace2-11ec-478d-8354-ca79f4cb22cb"
      },
      "execution_count": null,
      "outputs": [
        {
          "output_type": "stream",
          "name": "stdout",
          "text": [
            "Selecting features based on correlation...\n",
            "\n",
            "Top 15 features by correlation with price:\n",
            "price             1.000000\n",
            "grade             0.631182\n",
            "sqft_living       0.622333\n",
            "sqft_living15     0.562090\n",
            "sqft_above        0.530451\n",
            "price_per_sqft    0.465562\n",
            "bathrooms         0.455927\n",
            "lat               0.430762\n",
            "bedrooms          0.296956\n",
            "floors            0.273987\n",
            "view              0.238268\n",
            "sqft_basement     0.235701\n",
            "total_area        0.105629\n",
            "sqft_lot          0.093950\n",
            "yr_renovated      0.083601\n",
            "renovated         0.083162\n",
            "Name: price, dtype: float64\n"
          ]
        }
      ]
    },
    {
      "cell_type": "markdown",
      "source": [
        "### 3.5 Feature Scaling"
      ],
      "metadata": {
        "id": "5a4yn7uksS5w"
      }
    },
    {
      "cell_type": "code",
      "source": [
        "print(\"\\nApplying feature scaling...\")\n",
        "numeric_features = ['bedrooms', 'bathrooms', 'sqft_living', 'sqft_lot', 'floors',\n",
        "                   'sqft_above', 'sqft_basement', 'age', 'total_area']\n",
        "\n",
        "scaler = StandardScaler()\n",
        "df_clean[numeric_features] = scaler.fit_transform(df_clean[numeric_features])"
      ],
      "metadata": {
        "colab": {
          "base_uri": "https://localhost:8080/"
        },
        "id": "lbtnD1yAsLHJ",
        "outputId": "3fa5eaf3-e165-4fe5-c928-1c5c33649ed9"
      },
      "execution_count": null,
      "outputs": [
        {
          "output_type": "stream",
          "name": "stdout",
          "text": [
            "\n",
            "Applying feature scaling...\n"
          ]
        }
      ]
    },
    {
      "cell_type": "markdown",
      "source": [
        "### 3.6 One-Hot Encoding for zipcode"
      ],
      "metadata": {
        "id": "q2uW-GxPsXRs"
      }
    },
    {
      "cell_type": "code",
      "source": [
        "print(\"Applying one-hot encoding for zipcode...\")\n",
        "df_encoded = pd.get_dummies(df_clean, columns=['zipcode'], drop_first=True)\n",
        "\n",
        "# Final dataset for modeling\n",
        "selected_features = list(top_features)\n",
        "# Add engineered features if not already in selected_features\n",
        "for feature in ['renovated', 'age', 'total_area', 'sale_month']:\n",
        "    if feature not in selected_features:\n",
        "        selected_features.append(feature)\n",
        "\n",
        "# Add some zipcode columns (location matters for house prices)\n",
        "zipcode_cols = [col for col in df_encoded.columns if 'zipcode' in col][:10]  # Take first 10 zipcodes\n",
        "selected_features.extend(zipcode_cols)\n",
        "\n",
        "# Prepare final dataframe with selected features\n",
        "df_final = df_encoded[['price'] + selected_features].copy()\n",
        "\n",
        "print(f\"\\nFinal dataset shape: {df_final.shape}\")\n",
        "print(\"Selected features:\", selected_features)"
      ],
      "metadata": {
        "colab": {
          "base_uri": "https://localhost:8080/"
        },
        "id": "182kCdxMsWhg",
        "outputId": "091b954c-5e89-4665-823f-9435cc34850b"
      },
      "execution_count": null,
      "outputs": [
        {
          "output_type": "stream",
          "name": "stdout",
          "text": [
            "Applying one-hot encoding for zipcode...\n",
            "\n",
            "Final dataset shape: (20467, 28)\n",
            "Selected features: ['grade', 'sqft_living', 'sqft_living15', 'sqft_above', 'price_per_sqft', 'bathrooms', 'lat', 'bedrooms', 'floors', 'view', 'sqft_basement', 'total_area', 'sqft_lot', 'yr_renovated', 'renovated', 'age', 'sale_month', 'zipcode_98002', 'zipcode_98003', 'zipcode_98004', 'zipcode_98005', 'zipcode_98006', 'zipcode_98007', 'zipcode_98008', 'zipcode_98010', 'zipcode_98011', 'zipcode_98014']\n"
          ]
        }
      ]
    },
    {
      "cell_type": "markdown",
      "source": [
        "## 4. Modeling"
      ],
      "metadata": {
        "id": "D1yvVFgEsfZb"
      }
    },
    {
      "cell_type": "markdown",
      "source": [
        "### 4.1 Split data into training and testing sets"
      ],
      "metadata": {
        "id": "f4MuS-Rdssby"
      }
    },
    {
      "cell_type": "code",
      "source": [
        "X = df_final[selected_features]\n",
        "y = df_final['price']\n",
        "\n",
        "X_train, X_test, y_train, y_test = train_test_split(X, y, test_size=0.2, random_state=42)\n",
        "print(f\"Training set: {X_train.shape}\")\n",
        "print(f\"Testing set: {X_test.shape}\")"
      ],
      "metadata": {
        "colab": {
          "base_uri": "https://localhost:8080/"
        },
        "id": "YbFwY49-stpW",
        "outputId": "260361c3-bb77-4746-a962-85cc2ecdc332"
      },
      "execution_count": null,
      "outputs": [
        {
          "output_type": "stream",
          "name": "stdout",
          "text": [
            "Training set: (16373, 27)\n",
            "Testing set: (4094, 27)\n"
          ]
        }
      ]
    },
    {
      "cell_type": "markdown",
      "source": [
        "### 4.2 Function to evaluate models"
      ],
      "metadata": {
        "id": "TV-WaxYHsynx"
      }
    },
    {
      "cell_type": "code",
      "source": [
        "def evaluate_model(y_true, y_pred, model_name):\n",
        "    mae = mean_absolute_error(y_true, y_pred)\n",
        "    mse = mean_squared_error(y_true, y_pred)\n",
        "    rmse = np.sqrt(mse)\n",
        "    r2 = r2_score(y_true, y_pred)\n",
        "\n",
        "    print(f\"\\nModel: {model_name}\")\n",
        "    print(f\"MAE: ${mae:.2f}\")\n",
        "    print(f\"MSE: ${mse:.2f}\")\n",
        "    print(f\"RMSE: ${rmse:.2f}\")\n",
        "    print(f\"R²: {r2:.4f}\")\n",
        "    print(\"-\" * 50)\n",
        "\n",
        "    return mae, mse, rmse, r2"
      ],
      "metadata": {
        "id": "boCC7G8ys0xi"
      },
      "execution_count": null,
      "outputs": []
    },
    {
      "cell_type": "markdown",
      "source": [
        "### 4.3 Model 1: Linear Regression"
      ],
      "metadata": {
        "id": "PKPg1aXEs8UI"
      }
    },
    {
      "cell_type": "code",
      "source": [
        "print(\"Training Linear Regression model...\")\n",
        "lr_model = LinearRegression()\n",
        "lr_model.fit(X_train, y_train)\n",
        "\n",
        "# Make predictions\n",
        "y_pred_lr = lr_model.predict(X_test)\n",
        "\n",
        "# Evaluate model\n",
        "lr_metrics = evaluate_model(y_test, y_pred_lr, \"Linear Regression\")"
      ],
      "metadata": {
        "colab": {
          "base_uri": "https://localhost:8080/"
        },
        "id": "9YfIXM1Ks6vF",
        "outputId": "1318e657-4944-47d0-e97c-0836d1c21724"
      },
      "execution_count": null,
      "outputs": [
        {
          "output_type": "stream",
          "name": "stdout",
          "text": [
            "Training Linear Regression model...\n",
            "\n",
            "Model: Linear Regression\n",
            "MAE: $43414.28\n",
            "MSE: $3751787667.20\n",
            "RMSE: $61251.84\n",
            "R²: 0.9099\n",
            "--------------------------------------------------\n"
          ]
        }
      ]
    },
    {
      "cell_type": "markdown",
      "source": [
        "### 4.4 Model 2: Decision Tree Regressor"
      ],
      "metadata": {
        "id": "phqoDKxJtCqo"
      }
    },
    {
      "cell_type": "code",
      "source": [
        "print(\"Training Decision Tree model...\")\n",
        "dt_model = DecisionTreeRegressor(random_state=42)\n",
        "dt_model.fit(X_train, y_train)\n",
        "\n",
        "# Make predictions\n",
        "y_pred_dt = dt_model.predict(X_test)\n",
        "\n",
        "# Evaluate model\n",
        "dt_metrics = evaluate_model(y_test, y_pred_dt, \"Decision Tree\")"
      ],
      "metadata": {
        "colab": {
          "base_uri": "https://localhost:8080/"
        },
        "id": "PRUBKXrXtBWD",
        "outputId": "4b2a1a40-16c8-4bcb-9ebd-657dd6323df3"
      },
      "execution_count": null,
      "outputs": [
        {
          "output_type": "stream",
          "name": "stdout",
          "text": [
            "Training Decision Tree model...\n",
            "\n",
            "Model: Decision Tree\n",
            "MAE: $6696.88\n",
            "MSE: $164117980.21\n",
            "RMSE: $12810.85\n",
            "R²: 0.9961\n",
            "--------------------------------------------------\n"
          ]
        }
      ]
    },
    {
      "cell_type": "markdown",
      "source": [
        "### 4.5 Model 3: Random Forest Regressor"
      ],
      "metadata": {
        "id": "-F0xG2EmtKXM"
      }
    },
    {
      "cell_type": "code",
      "source": [
        "print(\"Training Random Forest model...\")\n",
        "rf_model = RandomForestRegressor(n_estimators=100, random_state=42)\n",
        "rf_model.fit(X_train, y_train)\n",
        "\n",
        "# Make predictions\n",
        "y_pred_rf = rf_model.predict(X_test)\n",
        "\n",
        "# Evaluate model\n",
        "rf_metrics = evaluate_model(y_test, y_pred_rf, \"Random Forest\")"
      ],
      "metadata": {
        "colab": {
          "base_uri": "https://localhost:8080/"
        },
        "id": "lKx3-uG3tH7S",
        "outputId": "b5c22773-8f87-4aff-be2a-07fb66a55864"
      },
      "execution_count": null,
      "outputs": [
        {
          "output_type": "stream",
          "name": "stdout",
          "text": [
            "Training Random Forest model...\n",
            "\n",
            "Model: Random Forest\n",
            "MAE: $2658.26\n",
            "MSE: $54538812.98\n",
            "RMSE: $7385.04\n",
            "R²: 0.9987\n",
            "--------------------------------------------------\n"
          ]
        }
      ]
    },
    {
      "cell_type": "markdown",
      "source": [
        "### 4.6 Hyperparameter Tuning for Random Forest"
      ],
      "metadata": {
        "id": "Qi3rJbV2thX7"
      }
    },
    {
      "cell_type": "code",
      "source": [
        "print(\"Performing hyperparameter tuning for Random Forest...\")\n",
        "param_grid = {\n",
        "    'n_estimators': [50, 100, 200],\n",
        "    'max_depth': [None, 10, 20, 30],\n",
        "    'min_samples_split': [2, 5, 10],\n",
        "    'min_samples_leaf': [1, 2, 4]\n",
        "}\n",
        "\n",
        "# For quick execution, we'll use a smaller parameter grid\n",
        "# Uncomment the below code and comment the above for a more comprehensive search\n",
        "# param_grid = {\n",
        "#     'n_estimators': [100],\n",
        "#     'max_depth': [None, 20],\n",
        "#     'min_samples_split': [2, 5],\n",
        "#     'min_samples_leaf': [1, 2]\n",
        "# }\n",
        "\n",
        "grid_search = GridSearchCV(\n",
        "    RandomForestRegressor(random_state=42),\n",
        "    param_grid,\n",
        "    cv=3,  # Use 3-fold cross-validation\n",
        "    scoring='neg_mean_squared_error',\n",
        "    n_jobs=-1  # Use all available cores\n",
        ")\n",
        "\n",
        "grid_search.fit(X_train, y_train)\n",
        "\n",
        "# Best parameters\n",
        "print(\"\\nBest parameters:\", grid_search.best_params_)\n",
        "\n",
        "# Best model\n",
        "best_rf_model = grid_search.best_estimator_\n",
        "y_pred_best_rf = best_rf_model.predict(X_test)\n",
        "\n",
        "# Evaluate tuned model\n",
        "best_rf_metrics = evaluate_model(y_test, y_pred_best_rf, \"Random Forest (Tuned)\")"
      ],
      "metadata": {
        "colab": {
          "base_uri": "https://localhost:8080/"
        },
        "id": "6ZSpKgp7tNx2",
        "outputId": "994c0c32-c330-4e0c-ef1b-8b7de98cda9f"
      },
      "execution_count": null,
      "outputs": [
        {
          "output_type": "stream",
          "name": "stdout",
          "text": [
            "Performing hyperparameter tuning for Random Forest...\n",
            "\n",
            "Best parameters: {'max_depth': None, 'min_samples_leaf': 1, 'min_samples_split': 2, 'n_estimators': 100}\n",
            "\n",
            "Model: Random Forest (Tuned)\n",
            "MAE: $2658.26\n",
            "MSE: $54538812.98\n",
            "RMSE: $7385.04\n",
            "R²: 0.9987\n",
            "--------------------------------------------------\n"
          ]
        }
      ]
    },
    {
      "cell_type": "markdown",
      "source": [
        "### 4.7 Feature Importance"
      ],
      "metadata": {
        "id": "PW3bU7vVfHD1"
      }
    },
    {
      "cell_type": "code",
      "source": [
        "print(\"\\n=== Feature Importance from Random Forest Model ===\")\n",
        "feature_importance = pd.DataFrame({\n",
        "    'Feature': X_train.columns,\n",
        "    'Importance': best_rf_model.feature_importances_\n",
        "}).sort_values('Importance', ascending=False)\n",
        "\n",
        "print(feature_importance.head(10))\n",
        "\n",
        "# Visualize feature importance\n",
        "plt.figure(figsize=(12, 8))\n",
        "sns.barplot(x='Importance', y='Feature', data=feature_importance.head(15))\n",
        "plt.title('Top 15 Features by Importance')\n",
        "plt.tight_layout()\n",
        "plt.savefig('feature_importance.png')\n",
        "plt.close()"
      ],
      "metadata": {
        "colab": {
          "base_uri": "https://localhost:8080/"
        },
        "id": "3lnugEAFtmje",
        "outputId": "50e4be9a-05cd-4665-abf2-852bb9296077"
      },
      "execution_count": null,
      "outputs": [
        {
          "output_type": "stream",
          "name": "stdout",
          "text": [
            "\n",
            "=== Feature Importance from Random Forest Model ===\n",
            "           Feature  Importance\n",
            "1      sqft_living    0.468636\n",
            "4   price_per_sqft    0.398467\n",
            "6              lat    0.122407\n",
            "0            grade    0.008593\n",
            "3       sqft_above    0.000755\n",
            "2    sqft_living15    0.000196\n",
            "15             age    0.000173\n",
            "16      sale_month    0.000141\n",
            "11      total_area    0.000140\n",
            "5        bathrooms    0.000116\n"
          ]
        }
      ]
    },
    {
      "cell_type": "markdown",
      "source": [
        "## 5. Model Comparison"
      ],
      "metadata": {
        "id": "aU7qWCpLELyh"
      }
    },
    {
      "cell_type": "code",
      "source": [
        "print(\"\\n=== Model Comparison ===\")\n",
        "models = ['Linear Regression', 'Decision Tree', 'Random Forest', 'Random Forest (Tuned)']\n",
        "metrics = [lr_metrics, dt_metrics, rf_metrics, best_rf_metrics]\n",
        "\n",
        "mae_values = [metric[0] for metric in metrics]\n",
        "rmse_values = [metric[2] for metric in metrics]\n",
        "r2_values = [metric[3] for metric in metrics]\n",
        "\n",
        "# Create comparison plots\n",
        "plt.figure(figsize=(15, 10))\n",
        "\n",
        "plt.subplot(2, 2, 1)\n",
        "sns.barplot(x=models, y=mae_values)\n",
        "plt.title('MAE Comparison')\n",
        "plt.ylabel('MAE ($)')\n",
        "plt.xticks(rotation=45)\n",
        "\n",
        "plt.subplot(2, 2, 2)\n",
        "sns.barplot(x=models, y=rmse_values)\n",
        "plt.title('RMSE Comparison')\n",
        "plt.ylabel('RMSE ($)')\n",
        "plt.xticks(rotation=45)\n",
        "\n",
        "plt.subplot(2, 2, 3)\n",
        "sns.barplot(x=models, y=r2_values)\n",
        "plt.title('R² Comparison')\n",
        "plt.ylabel('R²')\n",
        "plt.xticks(rotation=45)\n",
        "\n",
        "plt.subplot(2, 2, 4)\n",
        "# Actual vs Predicted plot for best model\n",
        "plt.scatter(y_test, y_pred_best_rf, alpha=0.5)\n",
        "plt.plot([y_test.min(), y_test.max()], [y_test.min(), y_test.max()], 'r--')\n",
        "plt.xlabel('Actual Price')\n",
        "plt.ylabel('Predicted Price')\n",
        "plt.title('Actual vs Predicted Prices (Random Forest Tuned)')\n",
        "\n",
        "plt.tight_layout()\n",
        "plt.savefig('model_comparison.png')\n",
        "plt.close()\n",
        "\n",
        "print(\"\\n=== Best Model: Random Forest (Tuned) ===\")\n",
        "print(f\"MAE: ${best_rf_metrics[0]:.2f}\")\n",
        "print(f\"RMSE: ${best_rf_metrics[2]:.2f}\")\n",
        "print(f\"R²: {best_rf_metrics[3]:.4f}\")"
      ],
      "metadata": {
        "colab": {
          "base_uri": "https://localhost:8080/"
        },
        "id": "b6bKliTpEN1-",
        "outputId": "5120dca4-dff6-4578-9f86-057d23386b37"
      },
      "execution_count": null,
      "outputs": [
        {
          "output_type": "stream",
          "name": "stdout",
          "text": [
            "\n",
            "=== Model Comparison ===\n",
            "\n",
            "=== Best Model: Random Forest (Tuned) ===\n",
            "MAE: $2658.26\n",
            "RMSE: $7385.04\n",
            "R²: 0.9987\n"
          ]
        }
      ]
    },
    {
      "cell_type": "markdown",
      "source": [
        "## 6. Save the best model\n"
      ],
      "metadata": {
        "id": "iyLJkw-GEXuz"
      }
    },
    {
      "cell_type": "code",
      "source": [
        "print(\"\\nSaving the best model...\")\n",
        "import joblib\n",
        "joblib.dump(best_rf_model, 'house_price_prediction_model.pkl')\n",
        "print(\"Model saved as 'house_price_prediction_model.pkl'\")"
      ],
      "metadata": {
        "colab": {
          "base_uri": "https://localhost:8080/"
        },
        "id": "GU9lbkAsEZ_Y",
        "outputId": "ea497858-2eaa-4562-fe0f-f0c87b422497"
      },
      "execution_count": null,
      "outputs": [
        {
          "output_type": "stream",
          "name": "stdout",
          "text": [
            "\n",
            "Saving the best model...\n",
            "Model saved as 'house_price_prediction_model.pkl'\n"
          ]
        }
      ]
    },
    {
      "cell_type": "markdown",
      "source": [
        "## 7. Example prediction with the best model"
      ],
      "metadata": {
        "id": "hfWKwMo9Ec5_"
      }
    },
    {
      "cell_type": "code",
      "source": [
        "print(\"\\n=== Example Prediction ===\")\n",
        "# Create a sample house\n",
        "sample_house = X_test.iloc[0].copy()\n",
        "actual_price = y_test.iloc[0]\n",
        "\n",
        "# Make prediction\n",
        "predicted_price = best_rf_model.predict([sample_house])[0]\n",
        "\n",
        "print(f\"Actual price: ${actual_price:.2f}\")\n",
        "print(f\"Predicted price: ${predicted_price:.2f}\")\n",
        "print(f\"Difference: ${abs(actual_price - predicted_price):.2f}\")\n",
        "print(f\"Percentage Error: {abs(actual_price - predicted_price) / actual_price * 100:.2f}%\")\n",
        "\n",
        "print(\"\\n=== Project Completed Successfully ===\")"
      ],
      "metadata": {
        "colab": {
          "base_uri": "https://localhost:8080/"
        },
        "id": "CKK9V-5yEhZ1",
        "outputId": "100821b1-f076-4d3a-a6d7-4f1c90d45aa4"
      },
      "execution_count": null,
      "outputs": [
        {
          "output_type": "stream",
          "name": "stdout",
          "text": [
            "\n",
            "=== Example Prediction ===\n",
            "Actual price: $420000.00\n",
            "Predicted price: $419067.50\n",
            "Difference: $932.50\n",
            "Percentage Error: 0.22%\n",
            "\n",
            "=== Project Completed Successfully ===\n"
          ]
        }
      ]
    }
  ]
}